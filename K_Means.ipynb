{
 "cells": [
  {
   "cell_type": "markdown",
   "id": "digital-lindsay",
   "metadata": {},
   "source": [
    "# K-Means Clustering"
   ]
  },
  {
   "cell_type": "markdown",
   "id": "intellectual-genesis",
   "metadata": {},
   "source": [
    "Clustering is an unsupervised learning technique that finds structure in unlabeled data by identifying similar groups. The goal of clustering is to separate data so that data similar to one another are in the same group, while data different from one another are in different groups. So two questions arise:\n",
    "\n",
    "-    How many groups do we choose?\n",
    "-    How do we define similarity?\n",
    "\n",
    "In K-Means:\n",
    "\n",
    "-    The “K” refers to the number of clusters we expect to find in a dataset.\n",
    "-    The “Means” refers to the average distance of data to each cluster center(centroid), which we are trying to minimize."
   ]
  },
  {
   "cell_type": "markdown",
   "id": "overall-liberia",
   "metadata": {},
   "source": [
    "It is an iterative approach:\n",
    "\n",
    "1.    Place k random centroids for the initial clusters.\n",
    "2.    Assign data samples to the nearest centroid.\n",
    "3.    Update centroids based on the above-assigned data samples.\n",
    "\n",
    "Repeat Steps 2 and 3 until convergence (when points don’t move between clusters and centroids stabilize).\n",
    "\n",
    "Once we are happy with our clusters, we can take a new unlabeled datapoint and quickly assign it to the appropriate cluster."
   ]
  },
  {
   "cell_type": "markdown",
   "id": "governing-naples",
   "metadata": {},
   "source": [
    "## Visualize Before K-Means"
   ]
  },
  {
   "cell_type": "markdown",
   "id": "serial-raise",
   "metadata": {},
   "source": [
    "We will work with Iris dataset which consists of measurements of sepals and petals of 3 different plant species:\n",
    "\n",
    "-    Iris setosa\n",
    "-    Iris versicolor\n",
    "-    Iris virginica\n",
    "\n",
    "\n",
    "The features of the dataset are:\n",
    "\n",
    "-    Column 0: Sepal length\n",
    "-    Column 1: Sepal width\n",
    "-    Column 2: Petal length\n",
    "-    Column 3: Petal width\n",
    "\n",
    "The 3 species of Iris plants are what we are going to cluster later.\n",
    "\n",
    "Below we create a 2D scatter plot of the Iris dataset using two of its features (sepal length vs. Sepal width). The sepal length measurements are stored in column 0 of the matrix, and the Sepal width measurements are stored in column 1 of the matrix."
   ]
  },
  {
   "cell_type": "code",
   "execution_count": 1,
   "id": "viral-resistance",
   "metadata": {},
   "outputs": [
    {
     "data": {
      "image/png": "[encoded data removed]",
      "text/plain": [
       "<Figure size 432x288 with 1 Axes>"
      ]
     },
     "metadata": {
      "needs_background": "light"
     },
     "output_type": "display_data"
    }
   ],
   "source": [
    "import matplotlib.pyplot as plt\n",
    "from sklearn import datasets\n",
    "import numpy as np\n",
    "\n",
    "iris = datasets.load_iris()\n",
    "\n",
    "samples = iris.data\n",
    "\n",
    "x = samples[:,0]\n",
    "y = samples[:,1]\n",
    "\n",
    "sepal_length_width = np.array(list(zip(x, y)))\n",
    "\n",
    "plt.scatter(x, y, alpha = 0.5)\n",
    "\n",
    "plt.show()"
   ]
  },
  {
   "cell_type": "markdown",
   "id": "approximate-border",
   "metadata": {},
   "source": [
    "## Implementing K-Means\n",
    "\n",
    "-   Place k random centroids for the initial clusters\n",
    "-   Assign data samples to the nearest centroid.\n",
    "-   Update centroids based on the above-assigned data samples.\n",
    "\n",
    "Repeat Steps 2 and 3 until convergence."
   ]
  },
  {
   "cell_type": "markdown",
   "id": "defensive-application",
   "metadata": {},
   "source": [
    "## Step 1: Place k random centroids for the initial clusters\n"
   ]
  },
  {
   "cell_type": "markdown",
   "id": "frank-initial",
   "metadata": {},
   "source": [
    "Because we expect there to be three clusters for the three species of flowers, we implement K-Means where the k is 3.\n",
    "\n",
    "We will create three random initial centroids and plot them along with our samples."
   ]
  },
  {
   "cell_type": "code",
   "execution_count": 2,
   "id": "alive-nurse",
   "metadata": {},
   "outputs": [
    {
     "data": {
      "image/png": "[encoded data removed]",
      "text/plain": [
       "<Figure size 432x288 with 1 Axes>"
      ]
     },
     "metadata": {
      "needs_background": "light"
     },
     "output_type": "display_data"
    }
   ],
   "source": [
    "combined = np.array(list(zip(x, y)))\n",
    "\n",
    "# Step 1: Place K random centroids\n",
    "k = 3\n",
    "centroids_x = np.random.uniform(min(x), max(x), size=k)\n",
    "centroids_y = np.random.uniform(min(y), max(y), size=k)\n",
    "centroids = np.array(list(zip(centroids_x, centroids_y)))\n",
    "\n",
    "plt.scatter(x, y, alpha=0.5)\n",
    "plt.scatter(centroids_x, centroids_y)\n",
    "\n",
    "plt.xlabel('sepal length (cm)')\n",
    "plt.ylabel('sepal width (cm)')\n",
    "\n",
    "plt.show()"
   ]
  },
  {
   "cell_type": "markdown",
   "id": "addressed-spain",
   "metadata": {},
   "source": [
    "##  Step 2: Assign data samples to the nearest centroid\n",
    "\n",
    "Now we have the three random centroids. We'll assign data points to their nearest centroids. To do this we write a distance() function. Then, we are going to iterate through our data samples and compute the distance from each data point to each of the 3 centroids."
   ]
  },
  {
   "cell_type": "code",
   "execution_count": 3,
   "id": "suspended-induction",
   "metadata": {},
   "outputs": [],
   "source": [
    "# Distance formula between two points\n",
    "def distance(a, b):\n",
    "  one = (a[0] - b[0]) ** 2\n",
    "  two = (a[1] - b[1]) ** 2\n",
    "  distance = (one + two) ** 0.5\n",
    "  return distance"
   ]
  },
  {
   "cell_type": "markdown",
   "id": "broken-difference",
   "metadata": {},
   "source": [
    "We'll create an array called labels that will hold the cluster labels for each data point. Its size should be the length of the data sample."
   ]
  },
  {
   "cell_type": "code",
   "execution_count": 4,
   "id": "satisfactory-deficit",
   "metadata": {},
   "outputs": [],
   "source": [
    "# Cluster labels for each point (either 0, 1, or 2)\n",
    "labels = np.zeros(len(samples))"
   ]
  },
  {
   "cell_type": "markdown",
   "id": "korean-assurance",
   "metadata": {},
   "source": [
    "We'll create an array called distances that will hold the distances for each centroid. It should have the size of k."
   ]
  },
  {
   "cell_type": "code",
   "execution_count": 5,
   "id": "neither-subcommittee",
   "metadata": {},
   "outputs": [],
   "source": [
    "# Distances to each centroid\n",
    "distances = np.zeros(k)"
   ]
  },
  {
   "cell_type": "markdown",
   "id": "sacred-sterling",
   "metadata": {},
   "source": [
    "To assign each data point to the closest centroid, we need to iterate through the whole data sample and calculate each data point’s distance to each centroid.\n",
    "\n",
    "We can get the index of the smallest distance of distances by doing:\n",
    "\n",
    "cluster = np.argmin(distances)\n",
    "\n",
    "Then, we assign the cluster to each index of the labels array.\n"
   ]
  },
  {
   "cell_type": "code",
   "execution_count": 6,
   "id": "stunning-insider",
   "metadata": {},
   "outputs": [],
   "source": [
    "# Assign to the closest centroid\n",
    "\n",
    "for i in range(len(samples)):\n",
    "  distances[0] = distance(sepal_length_width[i], centroids[0])\n",
    "  distances[1] = distance(sepal_length_width[i], centroids[1])\n",
    "  distances[2] = distance(sepal_length_width[i], centroids[2])\n",
    "  cluster = np.argmin(distances)\n",
    "  labels[i] = cluster\n"
   ]
  },
  {
   "cell_type": "markdown",
   "id": "numerical-trademark",
   "metadata": {},
   "source": [
    "## Step 3: Update centroids based on the above-assigned data samples"
   ]
  },
  {
   "cell_type": "markdown",
   "id": "lesbian-nutrition",
   "metadata": {},
   "source": [
    "We will update the centroids by finding new cluster centers by taking average of the assigned points. We save the old centroids value before updating."
   ]
  },
  {
   "cell_type": "code",
   "execution_count": 7,
   "id": "sunrise-packaging",
   "metadata": {},
   "outputs": [],
   "source": [
    "from copy import deepcopy\n",
    "\n",
    "centroids_old = deepcopy(centroids)"
   ]
  },
  {
   "cell_type": "markdown",
   "id": "unlimited-discussion",
   "metadata": {},
   "source": [
    "Then, we create a for loop that iterates k times.\n",
    "\n",
    "Since k = 3, as we are iterating through the for loop each time, we can calculate the mean of the points that have the same cluster label.\n",
    "\n",
    "Inside the for loop, we create an array named points where we get all the data points that have the cluster label i.\n",
    "\n",
    "Then, calculate the mean of those points to get the new centroid.\n",
    "\n",
    "Store the new centroid in centroids[i]."
   ]
  },
  {
   "cell_type": "code",
   "execution_count": 8,
   "id": "practical-constant",
   "metadata": {},
   "outputs": [],
   "source": [
    "for i in range(k):\n",
    "  points = [sepal_length_width[j] for j in range(len(sepal_length_width)) if labels[j] == i]\n",
    "  centroids[i] = np.mean(points, axis=0)"
   ]
  },
  {
   "cell_type": "markdown",
   "id": "living-classics",
   "metadata": {},
   "source": [
    "## Step 4: Repeat Steps 2 and 3 until convergence."
   ]
  },
  {
   "cell_type": "markdown",
   "id": "consecutive-prairie",
   "metadata": {},
   "source": [
    "This is the part of the algorithm where we repeatedly execute Step 2 and 3 until the centroids stabilize (convergence).\n",
    "\n",
    "We can do this using a while loop. And everything from Step 2 and 3 goes inside the loop.\n",
    "\n",
    "For the condition of the while loop, we need to create an array named errors. In each error index, we calculate the difference between the updated centroid (centroids) and the old centroid (centroids_old).\n",
    "\n",
    "The loop ends when all three values in errors are 0."
   ]
  },
  {
   "cell_type": "code",
   "execution_count": 9,
   "id": "worst-democracy",
   "metadata": {},
   "outputs": [],
   "source": [
    "# Initialize error:\n",
    "error = np.zeros(3)\n",
    "\n",
    "error[0] = distance(centroids[0], centroids_old[0])\n",
    "error[1] = distance(centroids[1], centroids_old[1])\n",
    "error[2] = distance(centroids[2], centroids_old[2])"
   ]
  },
  {
   "cell_type": "code",
   "execution_count": 10,
   "id": "fiscal-enlargement",
   "metadata": {},
   "outputs": [],
   "source": [
    "while error.all() != 0:\n",
    "\n",
    "  # Step 2: Assign samples to nearest centroid\n",
    "\n",
    "  for i in range(len(samples)):\n",
    "    distances[0] = distance(sepal_length_width[i], centroids[0])\n",
    "    distances[1] = distance(sepal_length_width[i], centroids[1])\n",
    "    distances[2] = distance(sepal_length_width[i], centroids[2])\n",
    "    cluster = np.argmin(distances)\n",
    "    labels[i] = cluster\n",
    "\n",
    "  # Step 3: Update centroids\n",
    "\n",
    "  centroids_old = deepcopy(centroids)\n",
    "\n",
    "  for i in range(3):\n",
    "    points = [sepal_length_width[j] for j in range(len(sepal_length_width)) if labels[j] == i]\n",
    "    centroids[i] = np.mean(points, axis=0)\n",
    "\n",
    "  error[0] = distance(centroids[0], centroids_old[0])\n",
    "  error[1] = distance(centroids[1],   centroids_old[1])\n",
    "  error[2] = distance(centroids[2], centroids_old[2])"
   ]
  },
  {
   "cell_type": "markdown",
   "id": "eastern-boulder",
   "metadata": {},
   "source": [
    "Now we visualize all the points in each of the labels with a different color. We create a for loop that iterates k times and inside it, we create an array named points where we get all the data points that have the cluster label i. Then we make a scatter plot of points[:, 0] vs points[:, 1]"
   ]
  },
  {
   "cell_type": "code",
   "execution_count": 11,
   "id": "virgin-enforcement",
   "metadata": {},
   "outputs": [
    {
     "data": {
      "image/png": "[encoded data removed]",
      "text/plain": [
       "<Figure size 432x288 with 1 Axes>"
      ]
     },
     "metadata": {
      "needs_background": "light"
     },
     "output_type": "display_data"
    }
   ],
   "source": [
    "colors = ['r', 'g', 'b']\n",
    "\n",
    "for i in range(k):\n",
    "  points = np.array([sepal_length_width[j] for j in range(len(samples)) if labels[j] == i])\n",
    "  plt.scatter(points[:, 0], points[:, 1], c=colors[i], alpha=0.5)\n",
    "\n",
    "plt.scatter(centroids[:, 0], centroids[:, 1], marker='D', s=150)\n",
    "\n",
    "plt.xlabel('sepal length (cm)')\n",
    "plt.ylabel('sepal width (cm)')\n",
    "\n",
    "plt.show()"
   ]
  }
 ],
 "metadata": {
  "kernelspec": {
   "display_name": "Python 3",
   "language": "python",
   "name": "python3"
  },
  "language_info": {
   "codemirror_mode": {
    "name": "ipython",
    "version": 3
   },
   "file_extension": ".py",
   "mimetype": "text/x-python",
   "name": "python",
   "nbconvert_exporter": "python",
   "pygments_lexer": "ipython3",
   "version": "3.9.1"
  }
 },
 "nbformat": 4,
 "nbformat_minor": 5
}
